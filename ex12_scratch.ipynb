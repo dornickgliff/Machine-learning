{
 "cells": [
  {
   "cell_type": "code",
   "execution_count": 1,
   "id": "d6925862",
   "metadata": {},
   "outputs": [],
   "source": [
    "import random\n",
    "f_x={}\n",
    "exp={}\n",
    "pi={}\n",
    "act={}\n",
    "def fitness(individual):\n",
    "    one = individual.count(1)\n",
    "    zero = individual.count(0)\n",
    "    return one - zero\n",
    "def initialize_population(population_size,size):\n",
    "    population = []\n",
    "    for _ in range(population_size):\n",
    "        a = [random.randint(0, 1) for _ in range(size)]\n",
    "        population.append(a)\n",
    "    return population\n",
    "def selection(r,act,p,pi):\n",
    "    r.reverse()\n",
    "    p.reverse()\n",
    "    global population\n",
    "    i1,i2,p1,p2=r[0],r[1],p[0],p[1]\n",
    "    index=[]\n",
    "    for i in range(len(r)):\n",
    "        if i1==act[i] and p1==pi[i]:\n",
    "            index.append(i)\n",
    "            break\n",
    "    for i in range(len(r)):\n",
    "        if i2==act[i] and p2==pi[i]:\n",
    "            index.append(i)\n",
    "            break\n",
    "    x1=population[index[0]]\n",
    "    x2=population[index[1]]\n",
    "    return x1,x2\n",
    "def calculate():\n",
    "    global f_x,exp,pi,act,population\n",
    "    f_x,exp,pi,act={},{},{},{}\n",
    "    sum1=0\n",
    "    avg=0.0\n",
    "    for i in range(len(population)):\n",
    "        f_x[i]=fitness(population[i])\n",
    "        sum1+=f_x[i]\n",
    "    avg=sum1/len(population)\n",
    "    for i in range(len(population)):\n",
    "        a=f_x[i]\n",
    "        pi[i]=round(a/sum1,2)\n",
    "        exp[i]=round(a/avg,2)\n",
    "        act[i]=round(a/avg)\n",
    "def crossover(a,b):\n",
    "    global population\n",
    "    a[2:len(population)],b[2:len(population)]=b[2:len(population)],a[2:len(population)]\n",
    "    #print(\"New fitness:\",fitness(a),fitness(b))\n",
    "    return a,b\n",
    "def mutation(a):\n",
    "    x=a\n",
    "    if x[1]==0:\n",
    "        x[1]=1\n",
    "    else:\n",
    "        x[1]=0\n",
    "    return x\n",
    "def genetic_algorithm():\n",
    "    calculate()\n",
    "    global f_x,exp,pi,act,population\n",
    "    act_sorted=sorted(act.values())\n",
    "    pi_sorted=sorted(pi.values())\n",
    "    point_1,point_2=selection(act_sorted,act,pi_sorted,pi)\n",
    "    #print(\"Selected point:\",point_1,point_2)\n",
    "    point1,point2=crossover(point_1,point_2)\n",
    "    i1,i2,p1,p2=act_sorted[-1],act_sorted[-2],pi_sorted[-1],pi_sorted[-2]\n",
    "    index=[]\n",
    "    #print(\"After Crossover\",point1,point2)\n",
    "    for i in range(len(population)):\n",
    "        if i1==act[i] and p1==pi[i]:\n",
    "            index.append(i)\n",
    "            break\n",
    "    for i in range(len(population)):\n",
    "        if i2==act[i] and p2==pi[i]:\n",
    "            index.append(i)\n",
    "            break\n",
    "    population[index[0]]=point1\n",
    "    population[index[1]]=point2\n",
    "    calculate()\n",
    "    act_sorted,pi_sorted=sorted(act.values()),sorted(pi.values())\n",
    "    i1,p1=act_sorted[0],pi_sorted[0]\n",
    "    for i in range(len(population)):\n",
    "        if i1==act[i] and p1==pi[i]:\n",
    "            index1=i\n",
    "            break\n",
    "    mut_point=population[index1]\n",
    "    mutated=mutation(mut_point)\n",
    "    population[index1]=mutated\n",
    "    #print(\"Selected Mutated point:\\t\",mut_point,\"\\tAfter Mutation\",mutated)\n",
    "    calculate()\n",
    "    #print(\"F_X:\",f_x,\"\\nPI:\",pi,\"\\nEXP:\",exp,\"\\nACT:\",act)\n",
    "    best_population = max(population,key=fitness)\n",
    "    best_fitness = fitness(best_population)\n",
    "    print(\"Best Population\",best_population,\"\\t Best Fitness \",best_fitness)\n",
    "    "
   ]
  },
  {
   "cell_type": "code",
   "execution_count": 2,
   "id": "44e5aa32",
   "metadata": {},
   "outputs": [
    {
     "name": "stdout",
     "output_type": "stream",
     "text": [
      "\n",
      "Enter the Population Size :5\n",
      "\n",
      "Enter the number of alleles:5\n"
     ]
    },
    {
     "data": {
      "text/plain": [
       "[[0, 1, 0, 0, 0],\n",
       " [0, 0, 0, 1, 0],\n",
       " [1, 0, 0, 1, 1],\n",
       " [1, 1, 1, 0, 0],\n",
       " [1, 0, 0, 1, 1]]"
      ]
     },
     "execution_count": 2,
     "metadata": {},
     "output_type": "execute_result"
    }
   ],
   "source": [
    "population = initialize_population(int(input(\"\\nEnter the Population Size :\")),int(input(\"\\nEnter the number of alleles:\")))\n",
    "population"
   ]
  },
  {
   "cell_type": "code",
   "execution_count": 3,
   "id": "26b2bace",
   "metadata": {},
   "outputs": [
    {
     "name": "stdout",
     "output_type": "stream",
     "text": [
      "Enter the Number of iteration2\n",
      "Iteration : 1\tBest Population [1, 0, 0, 1, 1] \t Best Fitness  1\n",
      "Iteration : 2\tBest Population [0, 0, 0, 1, 0] \t Best Fitness  -3\n"
     ]
    }
   ],
   "source": [
    "for i in range(int(input(\"Enter the Number of iteration\"))):\n",
    "        print(\"Iteration :\",i+1,end=\"\\t\")\n",
    "        genetic_algorithm()"
   ]
  },
  {
   "cell_type": "code",
   "execution_count": null,
   "id": "40819a75",
   "metadata": {},
   "outputs": [],
   "source": []
  }
 ],
 "metadata": {
  "kernelspec": {
   "display_name": "Python 3 (ipykernel)",
   "language": "python",
   "name": "python3"
  },
  "language_info": {
   "codemirror_mode": {
    "name": "ipython",
    "version": 3
   },
   "file_extension": ".py",
   "mimetype": "text/x-python",
   "name": "python",
   "nbconvert_exporter": "python",
   "pygments_lexer": "ipython3",
   "version": "3.9.13"
  }
 },
 "nbformat": 4,
 "nbformat_minor": 5
}
